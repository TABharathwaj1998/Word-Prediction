{
 "cells": [
  {
   "cell_type": "code",
   "execution_count": 1,
   "id": "5d2aa7da",
   "metadata": {},
   "outputs": [
    {
     "name": "stderr",
     "output_type": "stream",
     "text": [
      "2021-12-12 19:42:08.800 INFO    numexpr.utils: NumExpr defaulting to 8 threads.\n"
     ]
    }
   ],
   "source": [
    "import streamlit as st"
   ]
  },
  {
   "cell_type": "code",
   "execution_count": 2,
   "id": "66886338",
   "metadata": {},
   "outputs": [],
   "source": [
    "\"\"\"\n",
    "    Dataset: http://www.gutenberg.org/cache/epub/5200/pg5200.txt\n",
    "    Remove all the unnecessary data and label it as Metamorphosis-clean.\n",
    "    The starting and ending lines should be as follows.\n",
    "\n",
    "\"\"\"\n",
    "\n",
    "\n",
    "file = open(\"C:/Users/BHARATHWAJ T A/Desktop/AIDI Durham/20F/AIDI1002/metamorphosis_clean.txt\", \"r\",encoding = \"utf8\")\n",
    "lines = []\n",
    "\n",
    "for i in file:\n",
    "    lines.append(i)"
   ]
  },
  {
   "cell_type": "code",
   "execution_count": 3,
   "id": "3215863b",
   "metadata": {},
   "outputs": [],
   "source": [
    "for i in lines:\n",
    "    data = ' '. join(lines)\n",
    "    \n",
    "data = data.replace('\\n', '').replace('\\r', '').replace('\\ufeff', '')\n",
    "length=data"
   ]
  },
  {
   "cell_type": "code",
   "execution_count": 4,
   "id": "acf58367",
   "metadata": {},
   "outputs": [
    {
     "data": {
      "text/plain": [
       "119163"
      ]
     },
     "execution_count": 4,
     "metadata": {},
     "output_type": "execute_result"
    }
   ],
   "source": [
    "dataLength=len(length)\n",
    "dataLength"
   ]
  },
  {
   "cell_type": "code",
   "execution_count": 5,
   "id": "50f2de5f",
   "metadata": {},
   "outputs": [
    {
     "name": "stderr",
     "output_type": "stream",
     "text": [
      "2021-12-12 19:42:11.761 \n",
      "  \u001b[33m\u001b[1mWarning:\u001b[0m to view this Streamlit app on a browser, run it with the following\n",
      "  command:\n",
      "\n",
      "    streamlit run C:\\Users\\BHARATHWAJ T A\\anaconda3\\lib\\site-packages\\ipykernel_launcher.py [ARGUMENTS]\n"
     ]
    }
   ],
   "source": [
    "word=st.text_input(\"Word\",\"\")\n",
    "wordLength=len(word)\n",
    "st.write(wordLength)"
   ]
  },
  {
   "cell_type": "code",
   "execution_count": 6,
   "id": "33684618",
   "metadata": {},
   "outputs": [],
   "source": [
    "letter=0\n",
    "letterInText=0\n",
    "startingLetter=0\n",
    "endingLetter=0\n",
    "m=1\n",
    "n=1\n",
    "\n",
    "startLetters=[]\n",
    "endLetters=[]\n",
    "wordPredict=[]\n",
    "\n",
    "for initialize in range(dataLength):\n",
    "    startLetters.append(0)\n",
    "    endLetters.append(0)\n",
    "    wordPredict.append(0)"
   ]
  },
  {
   "cell_type": "code",
   "execution_count": null,
   "id": "63dd0041",
   "metadata": {},
   "outputs": [],
   "source": [
    "initialize=0\n",
    "\n",
    "for index in range(dataLength):\n",
    "    while m in range(wordLength):\n",
    "        if word[letter:letter+m] in length[letterInText:letterInText+n]:\n",
    "            if m==1:\n",
    "                print(\"\\n\")\n",
    "                startLetters[initialize]=letterInText\n",
    "                startingLetter=startLetters[initialize]\n",
    "            m+=1\n",
    "            n+=1\n",
    "        else:\n",
    "            m=1\n",
    "            n=1\n",
    "            letterInText+=1\n",
    "            \n",
    "            if (letterInText==dataLength):\n",
    "                index=letterInText\n",
    "                break\n",
    "    \n",
    "    if (letterInText<dataLength):\n",
    "        endLetters[initialize]=letterInText+n\n",
    "        letterInText=endLetters[initialize]\n",
    "        searchedWord=length[startLetters[initialize]:endLetters[initialize]]\n",
    "        \n",
    "    \n",
    "    predict=letterInText+1\n",
    "    while predict in range(dataLength):\n",
    "        if (\" \" in length[predict])or(\",\" in length[predict])or(\".\" in length[predict])or(\";\" in length[predict]):\n",
    "            predictedWord=length[startLetters[initialize]:(predict)]\n",
    "            predict=0\n",
    "            break\n",
    "        else:\n",
    "            predict+=1\n",
    "    \n",
    "    wordPredict[initialize]=predictedWord\n",
    "    initialize+=1\n",
    "    m=1\n",
    "    n=1\n",
    "    if (index==dataLength):\n",
    "        break"
   ]
  },
  {
   "cell_type": "code",
   "execution_count": null,
   "id": "3cb3dcea",
   "metadata": {},
   "outputs": [],
   "source": [
    "print(\"Typed Word: \",searchedWord)\n",
    "\n",
    "for index in range(dataLength):\n",
    "    if(wordPredict[index]!=0):\n",
    "        print(\"Word Predict: \",wordPredict[index])\n",
    "        st.write(\"Word Predict: \",wordPredict[index])"
   ]
  }
 ],
 "metadata": {
  "kernelspec": {
   "display_name": "Python 3 (ipykernel)",
   "language": "python",
   "name": "python3"
  },
  "language_info": {
   "codemirror_mode": {
    "name": "ipython",
    "version": 3
   },
   "file_extension": ".py",
   "mimetype": "text/x-python",
   "name": "python",
   "nbconvert_exporter": "python",
   "pygments_lexer": "ipython3",
   "version": "3.8.8"
  }
 },
 "nbformat": 4,
 "nbformat_minor": 5
}
